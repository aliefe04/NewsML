{
 "cells": [
  {
   "cell_type": "code",
   "execution_count": 63,
   "metadata": {},
   "outputs": [],
   "source": [
    "# Author: Ali Efe Çakıcı\n",
    "import pandas as pd\n",
    "from sklearn.model_selection import train_test_split\n",
    "from sklearn.svm import SVC\n",
    "import numpy as np\n",
    "import string\n",
    "from nltk.corpus import stopwords"
   ]
  },
  {
   "cell_type": "code",
   "execution_count": 64,
   "metadata": {},
   "outputs": [
    {
     "name": "stdout",
     "output_type": "stream",
     "text": [
      "<class 'pandas.core.frame.DataFrame'>\n",
      "RangeIndex: 8 entries, 0 to 7\n",
      "Data columns (total 3 columns):\n",
      " #   Column    Non-Null Count  Dtype \n",
      "---  ------    --------------  ----- \n",
      " 0   title     8 non-null      object\n",
      " 1   content   8 non-null      object\n",
      " 2   positive  8 non-null      int64 \n",
      "dtypes: int64(1), object(2)\n",
      "memory usage: 320.0+ bytes\n"
     ]
    }
   ],
   "source": [
    "# use ; instead of , as separator\n",
    "dataset = pd.read_csv('data.csv', sep=';')\n",
    "dataset.info()"
   ]
  },
  {
   "cell_type": "code",
   "execution_count": 65,
   "metadata": {},
   "outputs": [
    {
     "data": {
      "text/html": [
       "<div>\n",
       "<style scoped>\n",
       "    .dataframe tbody tr th:only-of-type {\n",
       "        vertical-align: middle;\n",
       "    }\n",
       "\n",
       "    .dataframe tbody tr th {\n",
       "        vertical-align: top;\n",
       "    }\n",
       "\n",
       "    .dataframe thead th {\n",
       "        text-align: right;\n",
       "    }\n",
       "</style>\n",
       "<table border=\"1\" class=\"dataframe\">\n",
       "  <thead>\n",
       "    <tr style=\"text-align: right;\">\n",
       "      <th></th>\n",
       "      <th>title</th>\n",
       "      <th>content</th>\n",
       "      <th>positive</th>\n",
       "      <th>length</th>\n",
       "    </tr>\n",
       "  </thead>\n",
       "  <tbody>\n",
       "    <tr>\n",
       "      <th>0</th>\n",
       "      <td>Borsa İstanbul  kapanışa doğru : BIST 100 yüks...</td>\n",
       "      <td>Investing.com  BIST 100 endeksi  güne hafif po...</td>\n",
       "      <td>1</td>\n",
       "      <td>2322</td>\n",
       "    </tr>\n",
       "    <tr>\n",
       "      <th>1</th>\n",
       "      <td>İngiltere  ücretler  pandemi dışında şimdiye k...</td>\n",
       "      <td>Investing.com – Salı günü açıklanan yeni veril...</td>\n",
       "      <td>0</td>\n",
       "      <td>2438</td>\n",
       "    </tr>\n",
       "    <tr>\n",
       "      <th>2</th>\n",
       "      <td>Elon Musk Twitter  ı aldıktan sonra üst düzey ...</td>\n",
       "      <td>Investing.com  Elon Muskın 44 milyar dolarlık ...</td>\n",
       "      <td>0</td>\n",
       "      <td>2256</td>\n",
       "    </tr>\n",
       "    <tr>\n",
       "      <th>3</th>\n",
       "      <td>İBB  Kadıköy  den Tuzla  uzanan metro çalışmal...</td>\n",
       "      <td>İstanbul Büyükşehir Belediyesi ( İBB )  raylı ...</td>\n",
       "      <td>1</td>\n",
       "      <td>1311</td>\n",
       "    </tr>\n",
       "    <tr>\n",
       "      <th>4</th>\n",
       "      <td>Türkiyede internete erişim imkanı olan hane or...</td>\n",
       "      <td>Hanehalkı bilişim teknolojileri kullanım araşt...</td>\n",
       "      <td>1</td>\n",
       "      <td>4581</td>\n",
       "    </tr>\n",
       "  </tbody>\n",
       "</table>\n",
       "</div>"
      ],
      "text/plain": [
       "                                               title  \\\n",
       "0  Borsa İstanbul  kapanışa doğru : BIST 100 yüks...   \n",
       "1  İngiltere  ücretler  pandemi dışında şimdiye k...   \n",
       "2  Elon Musk Twitter  ı aldıktan sonra üst düzey ...   \n",
       "3  İBB  Kadıköy  den Tuzla  uzanan metro çalışmal...   \n",
       "4  Türkiyede internete erişim imkanı olan hane or...   \n",
       "\n",
       "                                             content  positive  length  \n",
       "0  Investing.com  BIST 100 endeksi  güne hafif po...         1    2322  \n",
       "1  Investing.com – Salı günü açıklanan yeni veril...         0    2438  \n",
       "2  Investing.com  Elon Muskın 44 milyar dolarlık ...         0    2256  \n",
       "3  İstanbul Büyükşehir Belediyesi ( İBB )  raylı ...         1    1311  \n",
       "4  Hanehalkı bilişim teknolojileri kullanım araşt...         1    4581  "
      ]
     },
     "execution_count": 65,
     "metadata": {},
     "output_type": "execute_result"
    }
   ],
   "source": [
    "dataset['length'] = dataset['content'].apply(len)\n",
    "dataset.head()"
   ]
  },
  {
   "cell_type": "code",
   "execution_count": 66,
   "metadata": {},
   "outputs": [],
   "source": [
    "from nltk.corpus import stopwords\n",
    "def text_process(mess):\n",
    "    nopunc = [char for char in mess if char not in string.punctuation]\n",
    "\n",
    "    nopunc = ''.join(nopunc)\n",
    "    \n",
    "    return [word for word in nopunc.split() if word.lower() not in stopwords.words('english')]"
   ]
  },
  {
   "cell_type": "code",
   "execution_count": 67,
   "metadata": {},
   "outputs": [
    {
     "data": {
      "text/plain": [
       "0    [Investingcom, BIST, 100, endeksi, güne, hafif...\n",
       "1    [Investingcom, –, Salı, günü, açıklanan, yeni,...\n",
       "2    [Investingcom, Elon, Muskın, 44, milyar, dolar...\n",
       "3    [İstanbul, Büyükşehir, Belediyesi, İBB, raylı,...\n",
       "4    [Hanehalkı, bilişim, teknolojileri, kullanım, ...\n",
       "Name: content, dtype: object"
      ]
     },
     "execution_count": 67,
     "metadata": {},
     "output_type": "execute_result"
    }
   ],
   "source": [
    "dataset['content'].head().apply(text_process)"
   ]
  },
  {
   "cell_type": "code",
   "execution_count": 68,
   "metadata": {},
   "outputs": [
    {
     "data": {
      "text/html": [
       "<div>\n",
       "<style scoped>\n",
       "    .dataframe tbody tr th:only-of-type {\n",
       "        vertical-align: middle;\n",
       "    }\n",
       "\n",
       "    .dataframe tbody tr th {\n",
       "        vertical-align: top;\n",
       "    }\n",
       "\n",
       "    .dataframe thead th {\n",
       "        text-align: right;\n",
       "    }\n",
       "</style>\n",
       "<table border=\"1\" class=\"dataframe\">\n",
       "  <thead>\n",
       "    <tr style=\"text-align: right;\">\n",
       "      <th></th>\n",
       "      <th>title</th>\n",
       "      <th>content</th>\n",
       "      <th>positive</th>\n",
       "      <th>length</th>\n",
       "    </tr>\n",
       "  </thead>\n",
       "  <tbody>\n",
       "    <tr>\n",
       "      <th>0</th>\n",
       "      <td>Borsa İstanbul  kapanışa doğru : BIST 100 yüks...</td>\n",
       "      <td>Investing.com  BIST 100 endeksi  güne hafif po...</td>\n",
       "      <td>1</td>\n",
       "      <td>2322</td>\n",
       "    </tr>\n",
       "    <tr>\n",
       "      <th>1</th>\n",
       "      <td>İngiltere  ücretler  pandemi dışında şimdiye k...</td>\n",
       "      <td>Investing.com – Salı günü açıklanan yeni veril...</td>\n",
       "      <td>0</td>\n",
       "      <td>2438</td>\n",
       "    </tr>\n",
       "    <tr>\n",
       "      <th>2</th>\n",
       "      <td>Elon Musk Twitter  ı aldıktan sonra üst düzey ...</td>\n",
       "      <td>Investing.com  Elon Muskın 44 milyar dolarlık ...</td>\n",
       "      <td>0</td>\n",
       "      <td>2256</td>\n",
       "    </tr>\n",
       "    <tr>\n",
       "      <th>3</th>\n",
       "      <td>İBB  Kadıköy  den Tuzla  uzanan metro çalışmal...</td>\n",
       "      <td>İstanbul Büyükşehir Belediyesi ( İBB )  raylı ...</td>\n",
       "      <td>1</td>\n",
       "      <td>1311</td>\n",
       "    </tr>\n",
       "    <tr>\n",
       "      <th>4</th>\n",
       "      <td>Türkiyede internete erişim imkanı olan hane or...</td>\n",
       "      <td>Hanehalkı bilişim teknolojileri kullanım araşt...</td>\n",
       "      <td>1</td>\n",
       "      <td>4581</td>\n",
       "    </tr>\n",
       "  </tbody>\n",
       "</table>\n",
       "</div>"
      ],
      "text/plain": [
       "                                               title  \\\n",
       "0  Borsa İstanbul  kapanışa doğru : BIST 100 yüks...   \n",
       "1  İngiltere  ücretler  pandemi dışında şimdiye k...   \n",
       "2  Elon Musk Twitter  ı aldıktan sonra üst düzey ...   \n",
       "3  İBB  Kadıköy  den Tuzla  uzanan metro çalışmal...   \n",
       "4  Türkiyede internete erişim imkanı olan hane or...   \n",
       "\n",
       "                                             content  positive  length  \n",
       "0  Investing.com  BIST 100 endeksi  güne hafif po...         1    2322  \n",
       "1  Investing.com – Salı günü açıklanan yeni veril...         0    2438  \n",
       "2  Investing.com  Elon Muskın 44 milyar dolarlık ...         0    2256  \n",
       "3  İstanbul Büyükşehir Belediyesi ( İBB )  raylı ...         1    1311  \n",
       "4  Hanehalkı bilişim teknolojileri kullanım araşt...         1    4581  "
      ]
     },
     "execution_count": 68,
     "metadata": {},
     "output_type": "execute_result"
    }
   ],
   "source": [
    "dataset.head()"
   ]
  },
  {
   "cell_type": "code",
   "execution_count": 69,
   "metadata": {},
   "outputs": [],
   "source": [
    "from sklearn.feature_extraction.text import CountVectorizer"
   ]
  },
  {
   "cell_type": "code",
   "execution_count": 70,
   "metadata": {},
   "outputs": [
    {
     "name": "stdout",
     "output_type": "stream",
     "text": [
      "1376\n"
     ]
    }
   ],
   "source": [
    "bow_transformer = CountVectorizer(analyzer=text_process).fit(dataset['content'])\n",
    "\n",
    "print(len(bow_transformer.vocabulary_))"
   ]
  },
  {
   "cell_type": "code",
   "execution_count": 71,
   "metadata": {},
   "outputs": [
    {
     "name": "stdout",
     "output_type": "stream",
     "text": [
      "İstanbul Büyükşehir Belediyesi ( İBB )  raylı sistemin ilk etabını oluşturan Pendik Merkez  Kaynarca Merkez  Fevzi Çakmak Hattı  ndaki çalışmaların bir ay içerisinde tekrar başlayacağını duyurdu . İBB Raylı Sistem Daire Başkanlığı  Sabiha Gökçen Havalimanı  na uzanan Kadıköy  Tavşantepe Metrosu  nun diğer ucunu Tuzla  kadar devam ettiriyor . İBB  yüzde 33 seviyesinde kalan ilk etabın ihalesini Eylül ayında gerçekleştirdi . Kaynarca  Pendik  Tuzla Metrosu  nun 2 istasyonlu 51 kilometre uzunluğundaki 1. etabı entegrasyonun sağlanacağı Kaynarca İstasyonu  nun 2025 yılında bitirilmesi hedefleniyor . Tuzla  kadar kalan 5 istasyonun uzanacak ikinci kısmın inşaatına 2024 yerel seçimlerinin ardından başlanacağı belirtildi . Seferler aktarmasız yapılacak Kadıköy  Tavşantepe Metrosu Tavşantepe  Sabiha Gökçen Metrosu entegrasyon sağlandığında uygulama şöyle olacak : “ Kadıköy İstasyonu  ndan çıkan bir yolcu aktarmasız olarak Sabiha Gökçen Havalimanı  na ulaşabilecek . Benzer şekilde ters yönde aktarmasız ulaşım sağlanacak . Kadıköy İstasyonu  ndan çıkan bir yolcu aktarmasız olarak İçmeler İstasyonu  na ulaşacak . Ters yönde aktarmasız ulaşım sağlanacak . Pendik Merkez İstasyonu  ndan çıkan bir yolcu aktarmasız olarak Sabiha Gökçen Havalimanına ulaşabilecek . Ters yönde aktarmasız ulaşım sağlanacak . ”\n"
     ]
    }
   ],
   "source": [
    "content4 = dataset['content'][3]\n",
    "print(content4)"
   ]
  },
  {
   "cell_type": "code",
   "execution_count": 72,
   "metadata": {},
   "outputs": [
    {
     "name": "stdout",
     "output_type": "stream",
     "text": [
      "  (0, 0)\t1\n",
      "  (0, 26)\t1\n",
      "  (0, 35)\t1\n",
      "  (0, 36)\t1\n",
      "  (0, 49)\t1\n",
      "  (0, 80)\t1\n",
      "  (0, 83)\t1\n",
      "  (0, 171)\t1\n",
      "  (0, 173)\t1\n",
      "  (0, 174)\t1\n",
      "  (0, 188)\t1\n",
      "  (0, 200)\t1\n",
      "  (0, 221)\t1\n",
      "  (0, 224)\t1\n",
      "  (0, 230)\t4\n",
      "  (0, 235)\t1\n",
      "  (0, 237)\t2\n",
      "  (0, 238)\t1\n",
      "  (0, 245)\t4\n",
      "  (0, 253)\t3\n",
      "  (0, 264)\t3\n",
      "  (0, 265)\t4\n",
      "  (0, 287)\t3\n",
      "  (0, 296)\t1\n",
      "  (0, 300)\t4\n",
      "  :\t:\n",
      "  (0, 1163)\t1\n",
      "  (0, 1164)\t2\n",
      "  (0, 1165)\t1\n",
      "  (0, 1167)\t3\n",
      "  (0, 1170)\t1\n",
      "  (0, 1174)\t1\n",
      "  (0, 1175)\t1\n",
      "  (0, 1176)\t1\n",
      "  (0, 1219)\t1\n",
      "  (0, 1244)\t1\n",
      "  (0, 1251)\t3\n",
      "  (0, 1256)\t3\n",
      "  (0, 1270)\t1\n",
      "  (0, 1277)\t1\n",
      "  (0, 1287)\t1\n",
      "  (0, 1295)\t1\n",
      "  (0, 1306)\t3\n",
      "  (0, 1341)\t3\n",
      "  (0, 1350)\t1\n",
      "  (0, 1351)\t5\n",
      "  (0, 1355)\t1\n",
      "  (0, 1367)\t1\n",
      "  (0, 1372)\t1\n",
      "  (0, 1374)\t1\n",
      "  (0, 1375)\t1\n",
      "(1, 1376)\n"
     ]
    }
   ],
   "source": [
    "bow4 = bow_transformer.transform([content4])\n",
    "print(bow4)\n",
    "print(bow4.shape)\n"
   ]
  },
  {
   "cell_type": "code",
   "execution_count": 74,
   "metadata": {},
   "outputs": [
    {
     "name": "stdout",
     "output_type": "stream",
     "text": [
      "Shape of Sparse Matrix:  (8, 1376)\n",
      "Amount of Non-Zero occurences:  1618\n",
      "sparsity: 14.70%\n"
     ]
    }
   ],
   "source": [
    "from sklearn.feature_extraction.text import TfidfTransformer\n",
    "dataset_bow = bow_transformer.transform(dataset['content'])\n",
    "tfidf_transformer = TfidfTransformer().fit(dataset_bow)\n",
    "tfidf4 = tfidf_transformer.transform(bow4)\n",
    "dataset_tfidf = tfidf_transformer.transform(dataset_bow)\n",
    "print('Shape of Sparse Matrix: ', dataset_bow.shape)\n",
    "print('Amount of Non-Zero occurences: ', dataset_bow.nnz)\n",
    "print('sparsity: %.2f%%' % (100.0 * dataset_bow.nnz / (dataset.shape[0] * dataset_bow.shape[1])))"
   ]
  },
  {
   "cell_type": "code",
   "execution_count": 80,
   "metadata": {},
   "outputs": [],
   "source": [
    "from sklearn.naive_bayes import MultinomialNB\n",
    "news_detect_model = MultinomialNB().fit(dataset_tfidf, dataset['positive'])"
   ]
  },
  {
   "cell_type": "code",
   "execution_count": 81,
   "metadata": {},
   "outputs": [
    {
     "name": "stdout",
     "output_type": "stream",
     "text": [
      "predicted: 1\n",
      "expected: 1\n"
     ]
    }
   ],
   "source": [
    "print ('predicted:', news_detect_model.predict(tfidf4)[0])\n",
    "print ('expected:', dataset.positive[3])\n"
   ]
  },
  {
   "cell_type": "code",
   "execution_count": 82,
   "metadata": {},
   "outputs": [
    {
     "name": "stdout",
     "output_type": "stream",
     "text": [
      "[1 0 0 1 1 0 0 1]\n"
     ]
    }
   ],
   "source": [
    "all_predictions = news_detect_model.predict(dataset_tfidf)\n",
    "print(all_predictions)\n"
   ]
  },
  {
   "cell_type": "code",
   "execution_count": 83,
   "metadata": {},
   "outputs": [
    {
     "name": "stdout",
     "output_type": "stream",
     "text": [
      "              precision    recall  f1-score   support\n",
      "\n",
      "           0       1.00      1.00      1.00         4\n",
      "           1       1.00      1.00      1.00         4\n",
      "\n",
      "    accuracy                           1.00         8\n",
      "   macro avg       1.00      1.00      1.00         8\n",
      "weighted avg       1.00      1.00      1.00         8\n",
      "\n"
     ]
    }
   ],
   "source": [
    "from sklearn.metrics import classification_report\n",
    "print(classification_report(dataset['positive'], all_predictions))"
   ]
  },
  {
   "cell_type": "code",
   "execution_count": 87,
   "metadata": {},
   "outputs": [
    {
     "name": "stdout",
     "output_type": "stream",
     "text": [
      "6 2 8\n"
     ]
    }
   ],
   "source": [
    "from sklearn.model_selection import train_test_split\n",
    "\n",
    "dataset_train, dataset_test, positive_train, positive_test = \\\n",
    "train_test_split(dataset['content'], dataset['positive'], test_size=0.2)\n",
    "\n",
    "print(len(dataset_train), len(dataset_test), len(positive_train) + len(positive_test))"
   ]
  },
  {
   "cell_type": "code",
   "execution_count": 88,
   "metadata": {},
   "outputs": [],
   "source": [
    "from sklearn.pipeline import Pipeline\n",
    "\n",
    "pipeline = Pipeline([\n",
    "    ('bow', CountVectorizer(analyzer=text_process)),  # strings to token integer counts\n",
    "    ('tfidf', TfidfTransformer()),  # integer counts to weighted TF-IDF scores\n",
    "    ('classifier', MultinomialNB()),  # train on TF-IDF vectors w/ Naive Bayes classifier\n",
    "])"
   ]
  },
  {
   "cell_type": "code",
   "execution_count": 90,
   "metadata": {},
   "outputs": [
    {
     "data": {
      "text/html": [
       "<style>#sk-container-id-1 {color: black;background-color: white;}#sk-container-id-1 pre{padding: 0;}#sk-container-id-1 div.sk-toggleable {background-color: white;}#sk-container-id-1 label.sk-toggleable__label {cursor: pointer;display: block;width: 100%;margin-bottom: 0;padding: 0.3em;box-sizing: border-box;text-align: center;}#sk-container-id-1 label.sk-toggleable__label-arrow:before {content: \"▸\";float: left;margin-right: 0.25em;color: #696969;}#sk-container-id-1 label.sk-toggleable__label-arrow:hover:before {color: black;}#sk-container-id-1 div.sk-estimator:hover label.sk-toggleable__label-arrow:before {color: black;}#sk-container-id-1 div.sk-toggleable__content {max-height: 0;max-width: 0;overflow: hidden;text-align: left;background-color: #f0f8ff;}#sk-container-id-1 div.sk-toggleable__content pre {margin: 0.2em;color: black;border-radius: 0.25em;background-color: #f0f8ff;}#sk-container-id-1 input.sk-toggleable__control:checked~div.sk-toggleable__content {max-height: 200px;max-width: 100%;overflow: auto;}#sk-container-id-1 input.sk-toggleable__control:checked~label.sk-toggleable__label-arrow:before {content: \"▾\";}#sk-container-id-1 div.sk-estimator input.sk-toggleable__control:checked~label.sk-toggleable__label {background-color: #d4ebff;}#sk-container-id-1 div.sk-label input.sk-toggleable__control:checked~label.sk-toggleable__label {background-color: #d4ebff;}#sk-container-id-1 input.sk-hidden--visually {border: 0;clip: rect(1px 1px 1px 1px);clip: rect(1px, 1px, 1px, 1px);height: 1px;margin: -1px;overflow: hidden;padding: 0;position: absolute;width: 1px;}#sk-container-id-1 div.sk-estimator {font-family: monospace;background-color: #f0f8ff;border: 1px dotted black;border-radius: 0.25em;box-sizing: border-box;margin-bottom: 0.5em;}#sk-container-id-1 div.sk-estimator:hover {background-color: #d4ebff;}#sk-container-id-1 div.sk-parallel-item::after {content: \"\";width: 100%;border-bottom: 1px solid gray;flex-grow: 1;}#sk-container-id-1 div.sk-label:hover label.sk-toggleable__label {background-color: #d4ebff;}#sk-container-id-1 div.sk-serial::before {content: \"\";position: absolute;border-left: 1px solid gray;box-sizing: border-box;top: 0;bottom: 0;left: 50%;z-index: 0;}#sk-container-id-1 div.sk-serial {display: flex;flex-direction: column;align-items: center;background-color: white;padding-right: 0.2em;padding-left: 0.2em;position: relative;}#sk-container-id-1 div.sk-item {position: relative;z-index: 1;}#sk-container-id-1 div.sk-parallel {display: flex;align-items: stretch;justify-content: center;background-color: white;position: relative;}#sk-container-id-1 div.sk-item::before, #sk-container-id-1 div.sk-parallel-item::before {content: \"\";position: absolute;border-left: 1px solid gray;box-sizing: border-box;top: 0;bottom: 0;left: 50%;z-index: -1;}#sk-container-id-1 div.sk-parallel-item {display: flex;flex-direction: column;z-index: 1;position: relative;background-color: white;}#sk-container-id-1 div.sk-parallel-item:first-child::after {align-self: flex-end;width: 50%;}#sk-container-id-1 div.sk-parallel-item:last-child::after {align-self: flex-start;width: 50%;}#sk-container-id-1 div.sk-parallel-item:only-child::after {width: 0;}#sk-container-id-1 div.sk-dashed-wrapped {border: 1px dashed gray;margin: 0 0.4em 0.5em 0.4em;box-sizing: border-box;padding-bottom: 0.4em;background-color: white;}#sk-container-id-1 div.sk-label label {font-family: monospace;font-weight: bold;display: inline-block;line-height: 1.2em;}#sk-container-id-1 div.sk-label-container {text-align: center;}#sk-container-id-1 div.sk-container {/* jupyter's `normalize.less` sets `[hidden] { display: none; }` but bootstrap.min.css set `[hidden] { display: none !important; }` so we also need the `!important` here to be able to override the default hidden behavior on the sphinx rendered scikit-learn.org. See: https://github.com/scikit-learn/scikit-learn/issues/21755 */display: inline-block !important;position: relative;}#sk-container-id-1 div.sk-text-repr-fallback {display: none;}</style><div id=\"sk-container-id-1\" class=\"sk-top-container\"><div class=\"sk-text-repr-fallback\"><pre>Pipeline(steps=[(&#x27;bow&#x27;,\n",
       "                 CountVectorizer(analyzer=&lt;function text_process at 0x000001529F519FC0&gt;)),\n",
       "                (&#x27;tfidf&#x27;, TfidfTransformer()),\n",
       "                (&#x27;classifier&#x27;, MultinomialNB())])</pre><b>In a Jupyter environment, please rerun this cell to show the HTML representation or trust the notebook. <br />On GitHub, the HTML representation is unable to render, please try loading this page with nbviewer.org.</b></div><div class=\"sk-container\" hidden><div class=\"sk-item sk-dashed-wrapped\"><div class=\"sk-label-container\"><div class=\"sk-label sk-toggleable\"><input class=\"sk-toggleable__control sk-hidden--visually\" id=\"sk-estimator-id-1\" type=\"checkbox\" ><label for=\"sk-estimator-id-1\" class=\"sk-toggleable__label sk-toggleable__label-arrow\">Pipeline</label><div class=\"sk-toggleable__content\"><pre>Pipeline(steps=[(&#x27;bow&#x27;,\n",
       "                 CountVectorizer(analyzer=&lt;function text_process at 0x000001529F519FC0&gt;)),\n",
       "                (&#x27;tfidf&#x27;, TfidfTransformer()),\n",
       "                (&#x27;classifier&#x27;, MultinomialNB())])</pre></div></div></div><div class=\"sk-serial\"><div class=\"sk-item\"><div class=\"sk-estimator sk-toggleable\"><input class=\"sk-toggleable__control sk-hidden--visually\" id=\"sk-estimator-id-2\" type=\"checkbox\" ><label for=\"sk-estimator-id-2\" class=\"sk-toggleable__label sk-toggleable__label-arrow\">CountVectorizer</label><div class=\"sk-toggleable__content\"><pre>CountVectorizer(analyzer=&lt;function text_process at 0x000001529F519FC0&gt;)</pre></div></div></div><div class=\"sk-item\"><div class=\"sk-estimator sk-toggleable\"><input class=\"sk-toggleable__control sk-hidden--visually\" id=\"sk-estimator-id-3\" type=\"checkbox\" ><label for=\"sk-estimator-id-3\" class=\"sk-toggleable__label sk-toggleable__label-arrow\">TfidfTransformer</label><div class=\"sk-toggleable__content\"><pre>TfidfTransformer()</pre></div></div></div><div class=\"sk-item\"><div class=\"sk-estimator sk-toggleable\"><input class=\"sk-toggleable__control sk-hidden--visually\" id=\"sk-estimator-id-4\" type=\"checkbox\" ><label for=\"sk-estimator-id-4\" class=\"sk-toggleable__label sk-toggleable__label-arrow\">MultinomialNB</label><div class=\"sk-toggleable__content\"><pre>MultinomialNB()</pre></div></div></div></div></div></div></div>"
      ],
      "text/plain": [
       "Pipeline(steps=[('bow',\n",
       "                 CountVectorizer(analyzer=<function text_process at 0x000001529F519FC0>)),\n",
       "                ('tfidf', TfidfTransformer()),\n",
       "                ('classifier', MultinomialNB())])"
      ]
     },
     "execution_count": 90,
     "metadata": {},
     "output_type": "execute_result"
    }
   ],
   "source": [
    "pipeline.fit(dataset_train,positive_train)\n"
   ]
  },
  {
   "cell_type": "code",
   "execution_count": 91,
   "metadata": {},
   "outputs": [],
   "source": [
    "predictions = pipeline.predict(dataset_test)"
   ]
  },
  {
   "cell_type": "code",
   "execution_count": 94,
   "metadata": {},
   "outputs": [
    {
     "name": "stdout",
     "output_type": "stream",
     "text": [
      "              precision    recall  f1-score   support\n",
      "\n",
      "           0       0.00      0.00      0.00       2.0\n",
      "           1       0.00      0.00      0.00       0.0\n",
      "\n",
      "    accuracy                           0.00       2.0\n",
      "   macro avg       0.00      0.00      0.00       2.0\n",
      "weighted avg       0.00      0.00      0.00       2.0\n",
      "\n"
     ]
    }
   ],
   "source": [
    "print(classification_report(predictions,positive_test,zero_division=0))"
   ]
  }
 ],
 "metadata": {
  "kernelspec": {
   "display_name": "Python 3",
   "language": "python",
   "name": "python3"
  },
  "language_info": {
   "codemirror_mode": {
    "name": "ipython",
    "version": 3
   },
   "file_extension": ".py",
   "mimetype": "text/x-python",
   "name": "python",
   "nbconvert_exporter": "python",
   "pygments_lexer": "ipython3",
   "version": "3.10.6 (tags/v3.10.6:9c7b4bd, Aug  1 2022, 21:53:49) [MSC v.1932 64 bit (AMD64)]"
  },
  "orig_nbformat": 4,
  "vscode": {
   "interpreter": {
    "hash": "b31548d3c5cf1bd685be0fcbef3dadb9fcca2503c786536b2bca0c2fca9911a5"
   }
  }
 },
 "nbformat": 4,
 "nbformat_minor": 2
}
